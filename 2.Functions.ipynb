{
 "cells": [
  {
   "cell_type": "code",
   "execution_count": 15,
   "metadata": {},
   "outputs": [
    {
     "name": "stdout",
     "output_type": "stream",
     "text": [
      "enter the number:-90\n",
      "-90 is a negative Number\n",
      "-90 is an Even Number\n"
     ]
    }
   ],
   "source": [
    "#Odd or Even\n",
    "def check_even_odd(a):\n",
    "    if a>0:\n",
    "        print(a,\"is a Positive Number\")\n",
    "    elif a<0:\n",
    "        print(a,'is a negative Number')\n",
    "    else:\n",
    "        print('The Entered Number is Zero')\n",
    "    if a%2==0:\n",
    "        print(a,'is an Even Number')\n",
    "    else:\n",
    "        print(a,'is an Odd Number')\n",
    "a=int(input('enter the number:'))\n",
    "(check_even_odd(a))\n"
   ]
  },
  {
   "cell_type": "code",
   "execution_count": 23,
   "metadata": {},
   "outputs": [
    {
     "name": "stdout",
     "output_type": "stream",
     "text": [
      "Enter your weight in Kg: 67\n",
      "Enter your Height in m: 145\n",
      "your BMI: 31.87\n",
      "you are obese\n"
     ]
    }
   ],
   "source": [
    "#BMI Calculation\n",
    "def calculate_bmi(w,h):\n",
    "    bmi=round((w/(h**2))*10000,2)\n",
    "    return bmi\n",
    "w=float(input('Enter your weight in Kg: '))\n",
    "h=float(input('Enter your Height in m: '))\n",
    "if(w>=0 and h>=0):\n",
    "    bmi=calculate_bmi(w,h)\n",
    "    print('your BMI:',bmi)\n",
    "    if(calculate_bmi(w,h)<=18.5):\n",
    "        print('you are underweight')\n",
    "    elif(calculate_bmi(w,h)>=18.5 and calculate_bmi(w,h)<=24.9):\n",
    "        print('you are healthy!')\n",
    "    elif(calculate_bmi(w,h)>=25 and calculate_bmi(w,h)<=29.9):\n",
    "        print('you are Overweight')\n",
    "    else:\n",
    "        print('you are obese')  \n",
    "else:        \n",
    "    print('invalid input!,kindly enter a positive value')"
   ]
  },
  {
   "cell_type": "code",
   "execution_count": null,
   "metadata": {},
   "outputs": [],
   "source": [
    "# Area of a Triangle\n",
    "def area_of_triangle(h,b):\n",
    "    area=0.5*h*b\n",
    "    return area\n",
    "def perimter_of_traingle(h,b):\n",
    "    perimeter=h+h+b\n",
    "    return perimeter\n",
    "h=int(input('Enter the Height of a Triangle in cm:'))\n",
    "b=int(input('Enter the Breadth of a Triangle in cm:'))\n",
    "if(h>=0 and b>=0):\n",
    "    print('Area of a Triangle:',area_of_triangle(h,b),'cm^2')\n",
    "    print('Perimeter of a triangle:',perimter_of_traingle(h,b),'cm')\n",
    "else:\n",
    "    print('invalid input!,Kindly enter the positive value')\n"
   ]
  },
  {
   "cell_type": "code",
   "execution_count": 8,
   "metadata": {},
   "outputs": [
    {
     "name": "stdout",
     "output_type": "stream",
     "text": [
      "Enter the Mark of Subject-1: 67\n",
      "Enter the Mark of Subject-2: 90\n",
      "Enter the Mark of Subject-3: 89\n",
      "Enter the Mark of Subject-4: 90\n",
      "Enter the Mark of Subject-5: 78\n",
      "Your Percentage = 82.8\n"
     ]
    }
   ],
   "source": [
    "#Percentage calculation\n",
    "def percentage_calculation(s1,s2,s3,s4,s5):\n",
    "    if (0<=s1<=100) and (0<=s2<=100) and (0<=s3<=100) and (0<=s4<=100) and (0<=s5<=100):\n",
    "        total=s1+s2+s3+s4+s5\n",
    "        percentage=total/5\n",
    "        return percentage   \n",
    "    else:\n",
    "        print('Invalid Input, Kindly enter the valid mark')\n",
    "s1=int(input('Enter the Mark of Subject-1: '))\n",
    "s2=int(input('Enter the Mark of Subject-2: '))\n",
    "s3=int(input('Enter the Mark of Subject-3: '))\n",
    "s4=int(input('Enter the Mark of Subject-4: '))\n",
    "s5=int(input('Enter the Mark of Subject-5: '))\n",
    "result=percentage_calculation(s1,s2,s3,s4,s5)\n",
    "print('Your Percentage =',result)"
   ]
  },
  {
   "cell_type": "code",
   "execution_count": null,
   "metadata": {},
   "outputs": [],
   "source": []
  },
  {
   "cell_type": "code",
   "execution_count": null,
   "metadata": {},
   "outputs": [],
   "source": []
  },
  {
   "cell_type": "code",
   "execution_count": null,
   "metadata": {},
   "outputs": [],
   "source": []
  },
  {
   "cell_type": "code",
   "execution_count": null,
   "metadata": {},
   "outputs": [],
   "source": []
  },
  {
   "cell_type": "code",
   "execution_count": null,
   "metadata": {},
   "outputs": [],
   "source": []
  },
  {
   "cell_type": "code",
   "execution_count": null,
   "metadata": {},
   "outputs": [],
   "source": []
  }
 ],
 "metadata": {
  "kernelspec": {
   "display_name": "Python 3",
   "language": "python",
   "name": "python3"
  },
  "language_info": {
   "codemirror_mode": {
    "name": "ipython",
    "version": 3
   },
   "file_extension": ".py",
   "mimetype": "text/x-python",
   "name": "python",
   "nbconvert_exporter": "python",
   "pygments_lexer": "ipython3",
   "version": "3.7.4"
  }
 },
 "nbformat": 4,
 "nbformat_minor": 2
}
