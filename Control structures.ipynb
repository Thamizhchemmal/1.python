{
 "cells": [
  {
   "cell_type": "code",
   "execution_count": 18,
   "metadata": {},
   "outputs": [
    {
     "name": "stdout",
     "output_type": "stream",
     "text": [
      "welcome to Assignment-1\n"
     ]
    }
   ],
   "source": [
    "print(\"welcome to Assignment-1\")\n"
   ]
  },
  {
   "cell_type": "code",
   "execution_count": 17,
   "metadata": {},
   "outputs": [
    {
     "name": "stdout",
     "output_type": "stream",
     "text": [
      "Num1= 10\n",
      "Num2= 30\n",
      "add= 40\n"
     ]
    }
   ],
   "source": [
    "a=10\n",
    "print('Num1=',a)\n",
    "b=30\n",
    "print('Num2=',b)\n",
    "c=a+b\n",
    "print('add=',c)\n",
    "\n"
   ]
  },
  {
   "cell_type": "code",
   "execution_count": 15,
   "metadata": {},
   "outputs": [
    {
     "name": "stdout",
     "output_type": "stream",
     "text": [
      "Enter the BMI index:34\n",
      "You are Very Overweight\n"
     ]
    }
   ],
   "source": [
    "a=float(input('Enter the BMI index:'))\n",
    "if(a>=18.5 and a<=24.9):\n",
    "    print('You are Healthy')\n",
    "elif(a>=25 and a<=29.9):\n",
    "    print('You are Overweight')\n",
    "else:\n",
    "    print('You are Very Overweight')"
   ]
  },
  {
   "cell_type": "code",
   "execution_count": 16,
   "metadata": {},
   "outputs": [
    {
     "name": "stdout",
     "output_type": "stream",
     "text": [
      "HOPE AI\n"
     ]
    }
   ],
   "source": [
    "print('HOPE AI')"
   ]
  },
  {
   "cell_type": "code",
   "execution_count": 2,
   "metadata": {},
   "outputs": [
    {
     "name": "stdout",
     "output_type": "stream",
     "text": [
      "Enter your institute name?:hope ai\n"
     ]
    }
   ],
   "source": [
    "a=input('Enter your institute name?:')"
   ]
  },
  {
   "cell_type": "code",
   "execution_count": 1,
   "metadata": {},
   "outputs": [
    {
     "name": "stdout",
     "output_type": "stream",
     "text": [
      "Enter your name:raj\n",
      "Enter your age:11\n",
      "Enter your school name:guru school\n",
      "Enter your degree:bsc\n"
     ]
    }
   ],
   "source": [
    "a=input('Enter your name:')\n",
    "b=int(input('Enter your age:'))\n",
    "c=input('Enter your school name:')\n",
    "d=input('Enter your degree:')"
   ]
  },
  {
   "cell_type": "code",
   "execution_count": 4,
   "metadata": {},
   "outputs": [
    {
     "name": "stdout",
     "output_type": "stream",
     "text": [
      "a= 43\n",
      "b= 34\n",
      "add= 77\n"
     ]
    }
   ],
   "source": [
    "a=43\n",
    "print('a =',a)\n",
    "b=34\n",
    "print('b =',b)\n",
    "c=a+b\n",
    "print('add =',c)"
   ]
  },
  {
   "cell_type": "code",
   "execution_count": 5,
   "metadata": {},
   "outputs": [
    {
     "name": "stdout",
     "output_type": "stream",
     "text": [
      "a = 43\n",
      "b = 34\n",
      "sub = 9\n"
     ]
    }
   ],
   "source": [
    "a=43\n",
    "print('a =',a)\n",
    "b=34\n",
    "print('b =',b)\n",
    "c=a-b\n",
    "print('sub =',c)"
   ]
  },
  {
   "cell_type": "code",
   "execution_count": 7,
   "metadata": {},
   "outputs": [
    {
     "name": "stdout",
     "output_type": "stream",
     "text": [
      "a = 63\n",
      "b = 97\n",
      "Mul = 6111\n"
     ]
    }
   ],
   "source": [
    "a=63\n",
    "print('a =',a)\n",
    "b=97\n",
    "print('b =',b)\n",
    "c=a*b\n",
    "print('Mul =',c)"
   ]
  },
  {
   "cell_type": "code",
   "execution_count": 9,
   "metadata": {},
   "outputs": [
    {
     "name": "stdout",
     "output_type": "stream",
     "text": [
      "a = 76\n",
      "b = 31\n",
      "Floor Div = 2.4516129032258065\n"
     ]
    }
   ],
   "source": [
    "a=76\n",
    "print('a =',a)\n",
    "b=31\n",
    "print('b =',b)\n",
    "c=a/b\n",
    "print('Float Div =',c)"
   ]
  },
  {
   "cell_type": "code",
   "execution_count": 10,
   "metadata": {},
   "outputs": [
    {
     "name": "stdout",
     "output_type": "stream",
     "text": [
      "a = 76\n",
      "b = 31\n",
      "Floor Div = 2\n"
     ]
    }
   ],
   "source": [
    "a=76\n",
    "print('a =',a)\n",
    "b=31\n",
    "print('b =',b)\n",
    "c=a//b\n",
    "print('Floor Div =',c)"
   ]
  },
  {
   "cell_type": "code",
   "execution_count": 11,
   "metadata": {},
   "outputs": [
    {
     "name": "stdout",
     "output_type": "stream",
     "text": [
      "a = 76\n",
      "b = 31\n",
      "Modulo = 14\n"
     ]
    }
   ],
   "source": [
    "a=76\n",
    "print('a =',a)\n",
    "b=31\n",
    "print('b =',b)\n",
    "c=a%b\n",
    "print('Modulo =',c)"
   ]
  },
  {
   "cell_type": "code",
   "execution_count": 14,
   "metadata": {},
   "outputs": [
    {
     "name": "stdout",
     "output_type": "stream",
     "text": [
      "a = 4\n",
      "b = 4\n",
      "power = 256\n"
     ]
    }
   ],
   "source": [
    "a=4\n",
    "print('a =',a)\n",
    "b=4\n",
    "print('b =',b)\n",
    "c=a**b\n",
    "print('power =',c)"
   ]
  },
  {
   "cell_type": "code",
   "execution_count": 20,
   "metadata": {},
   "outputs": [
    {
     "name": "stdout",
     "output_type": "stream",
     "text": [
      "0\n",
      "1\n",
      "2\n",
      "3\n",
      "4\n",
      "5\n",
      "6\n",
      "7\n",
      "8\n",
      "9\n",
      "10\n",
      "11\n",
      "12\n",
      "13\n",
      "14\n",
      "15\n",
      "16\n",
      "17\n",
      "18\n",
      "19\n"
     ]
    }
   ],
   "source": [
    "for i in range(0,20):\n",
    "    print(i)"
   ]
  },
  {
   "cell_type": "code",
   "execution_count": 21,
   "metadata": {},
   "outputs": [
    {
     "name": "stdout",
     "output_type": "stream",
     "text": [
      "10\n",
      "12\n",
      "14\n",
      "16\n",
      "18\n",
      "20\n"
     ]
    }
   ],
   "source": [
    "for i in range(10,21,2):\n",
    "    print(i)"
   ]
  },
  {
   "cell_type": "code",
   "execution_count": 24,
   "metadata": {},
   "outputs": [
    {
     "name": "stdout",
     "output_type": "stream",
     "text": [
      "7\n"
     ]
    }
   ],
   "source": [
    "a=[10,20,14,55,43,87,76]\n",
    "b=len(a)\n",
    "print(b)"
   ]
  },
  {
   "cell_type": "code",
   "execution_count": 32,
   "metadata": {},
   "outputs": [
    {
     "name": "stdout",
     "output_type": "stream",
     "text": [
      "A\n",
      "r\n",
      "t\n",
      "i\n",
      "f\n",
      "i\n",
      "c\n",
      "i\n",
      "a\n",
      "l\n",
      " \n",
      "I\n",
      "n\n",
      "t\n",
      "e\n",
      "l\n",
      "l\n",
      "i\n",
      "g\n",
      "e\n",
      "n\n",
      "c\n",
      "e\n"
     ]
    }
   ],
   "source": [
    "a= \"Artificial Intelligence\"\n",
    "for i in range(0,len(a)):\n",
    "    print(a[i])"
   ]
  },
  {
   "cell_type": "code",
   "execution_count": null,
   "metadata": {},
   "outputs": [],
   "source": []
  }
 ],
 "metadata": {
  "kernelspec": {
   "display_name": "Python 3",
   "language": "python",
   "name": "python3"
  },
  "language_info": {
   "codemirror_mode": {
    "name": "ipython",
    "version": 3
   },
   "file_extension": ".py",
   "mimetype": "text/x-python",
   "name": "python",
   "nbconvert_exporter": "python",
   "pygments_lexer": "ipython3",
   "version": "3.7.4"
  }
 },
 "nbformat": 4,
 "nbformat_minor": 2
}
